{
  "nbformat": 4,
  "nbformat_minor": 0,
  "metadata": {
    "colab": {
      "provenance": []
    },
    "kernelspec": {
      "name": "python3",
      "display_name": "Python 3"
    },
    "language_info": {
      "name": "python"
    }
  },
  "cells": [
    {
      "cell_type": "code",
      "execution_count": 10,
      "metadata": {
        "id": "TrsJ4beAIvtn"
      },
      "outputs": [],
      "source": [
        "# Importing packages\n",
        "import cv2\n",
        "import numpy as np\n",
        "import matplotlib.pyplot as plt\n",
        "from sklearn.cluster import KMeans\n",
        "import imutils"
      ]
    },
    {
      "cell_type": "code",
      "source": [
        "# Defining the no. of clusters for the KMeans algorithm.\n",
        "clusters = 7"
      ],
      "metadata": {
        "id": "Do0jU37-MO5B"
      },
      "execution_count": 11,
      "outputs": []
    },
    {
      "cell_type": "code",
      "source": [
        "# Reading input image.\n",
        "img = cv2.imread('pic.jpg')\n",
        "\n",
        "# Keeping a copy of it for future use.\n",
        "org_img = img.copy()\n",
        "\n",
        "# Printing its shape.\n",
        "print('Orginal image shape --> ',img.shape)"
      ],
      "metadata": {
        "colab": {
          "base_uri": "https://localhost:8080/"
        },
        "id": "Um3QA084MU8R",
        "outputId": "aabfcdb4-8164-4513-b2d2-628bd14053d0"
      },
      "execution_count": 12,
      "outputs": [
        {
          "output_type": "stream",
          "name": "stdout",
          "text": [
            "Orginal image shape -->  (168, 300, 3)\n"
          ]
        }
      ]
    },
    {
      "cell_type": "code",
      "source": [
        "# Resizing our image to get results fast.\n",
        "img = imutils.resize(img,height=200)\n",
        "\n",
        "# Printing resized image shape.\n",
        "print('After resizing image shape --> ',img.shape)"
      ],
      "metadata": {
        "colab": {
          "base_uri": "https://localhost:8080/"
        },
        "id": "3jO3OnCBNLF6",
        "outputId": "914cbf5e-a631-4cc4-ceda-1f3ba1e98d36"
      },
      "execution_count": 13,
      "outputs": [
        {
          "output_type": "stream",
          "name": "stdout",
          "text": [
            "After resizing image shape -->  (200, 357, 3)\n"
          ]
        }
      ]
    },
    {
      "cell_type": "code",
      "source": [
        "# Flattening the image. \n",
        "flat_img = np.reshape(img,(-1,3))\n",
        "\n",
        "# Check the shape of the flattened image \n",
        "print('After Flattening shape --> ',flat_img.shape)"
      ],
      "metadata": {
        "colab": {
          "base_uri": "https://localhost:8080/"
        },
        "id": "v4MkgiszNjth",
        "outputId": "564ae549-b07b-4714-cc0b-eab7158d9984"
      },
      "execution_count": 14,
      "outputs": [
        {
          "output_type": "stream",
          "name": "stdout",
          "text": [
            "After Flattening shape -->  (71400, 3)\n"
          ]
        }
      ]
    },
    {
      "cell_type": "code",
      "source": [
        "# Making a KMeans Clustering object with n_clusters\n",
        "kmeans = KMeans(n_clusters=clusters,random_state=0)\n",
        "\n",
        "# Fit our image in Kmeans Clustering Algorithm\n",
        "kmeans.fit(flat_img)"
      ],
      "metadata": {
        "colab": {
          "base_uri": "https://localhost:8080/"
        },
        "id": "jN6yYuuoN4hz",
        "outputId": "c6c130c4-678b-4217-cb2b-21b4891c43ba"
      },
      "execution_count": 15,
      "outputs": [
        {
          "output_type": "execute_result",
          "data": {
            "text/plain": [
              "KMeans(n_clusters=7, random_state=0)"
            ]
          },
          "metadata": {},
          "execution_count": 15
        }
      ]
    },
    {
      "cell_type": "code",
      "source": [
        "# Extracting cluster centers\n",
        "dominant_colors = np.array(kmeans.cluster_centers_,dtype='uint')"
      ],
      "metadata": {
        "id": "-ivPDv2JOON1"
      },
      "execution_count": 16,
      "outputs": []
    },
    {
      "cell_type": "code",
      "source": [
        "# calculating the dominance of each dominant color.\n",
        "percentages = (np.unique(kmeans.labels_,return_counts=True)[1])/flat_img.shape[0]\n",
        "\n",
        "# zipping percentages and colors together\n",
        "p_and_c = zip(percentages,dominant_colors)\n",
        "\n",
        "# sort this zip object in descending order\n",
        "p_and_c = sorted(p_and_c,reverse=True)\n"
      ],
      "metadata": {
        "id": "sxmV3GPzSS6D"
      },
      "execution_count": 17,
      "outputs": []
    },
    {
      "cell_type": "code",
      "source": [
        "# plotting blocks of dominant colors.\n",
        "block = np.ones((50,50,3),dtype='uint')\n",
        "plt.figure(figsize=(12,8))\n",
        "for i in range(clusters):\n",
        "    plt.subplot(1,clusters,i+1)\n",
        "    block[:] = p_and_c[i][1][::-1] # we have done this to convert bgr(opencv) to rgb(matplotlib) \n",
        "    plt.imshow(block)\n",
        "    plt.xticks([])\n",
        "    plt.yticks([])\n",
        "    plt.xlabel(str(round(p_and_c[i][0]*100,2))+'%')"
      ],
      "metadata": {
        "colab": {
          "base_uri": "https://localhost:8080/",
          "height": 124
        },
        "id": "Xaszd_s_SzLB",
        "outputId": "cf27295f-2f1d-4521-97f4-313da684086f"
      },
      "execution_count": 18,
      "outputs": [
        {
          "output_type": "display_data",
          "data": {
            "text/plain": [
              "<Figure size 864x576 with 7 Axes>"
            ],
            "image/png": "[encoded data removed]"
          },
          "metadata": {}
        }
      ]
    },
    {
      "cell_type": "code",
      "source": [
        "# We are plotting the following bar.\n",
        "bar = np.ones((50,500,3),dtype='uint')\n",
        "plt.figure(figsize=(12,8))\n",
        "plt.title('Proportions of colors in the image')\n",
        "start = 0\n",
        "i = 1\n",
        "for p,c in p_and_c:\n",
        "    end = start+int(p*bar.shape[1])\n",
        "    if i==clusters:\n",
        "        bar[:,start:] = c[::-1]\n",
        "    else:\n",
        "        bar[:,start:end] = c[::-1]\n",
        "    start = end\n",
        "    i+=1\n",
        "plt.imshow(bar)\n",
        "plt.xticks([])\n",
        "plt.yticks([])"
      ],
      "metadata": {
        "colab": {
          "base_uri": "https://localhost:8080/",
          "height": 132
        },
        "id": "Nw4ItvGCVuEi",
        "outputId": "10571c2b-5589-4c9f-c02d-0614dcc4442a"
      },
      "execution_count": 19,
      "outputs": [
        {
          "output_type": "execute_result",
          "data": {
            "text/plain": [
              "([], <a list of 0 Text major ticklabel objects>)"
            ]
          },
          "metadata": {},
          "execution_count": 19
        },
        {
          "output_type": "display_data",
          "data": {
            "text/plain": [
              "<Figure size 864x576 with 1 Axes>"
            ],
            "image/png": "[encoded data removed]"
          },
          "metadata": {}
        }
      ]
    }
  ]
}